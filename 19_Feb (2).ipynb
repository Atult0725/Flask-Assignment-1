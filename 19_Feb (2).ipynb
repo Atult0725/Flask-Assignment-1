{
 "cells": [
  {
   "cell_type": "raw",
   "id": "70d854c6-5294-46f4-b522-f7e5e8395e8b",
   "metadata": {},
   "source": [
    "'''Q1. What is Flask Framework? What are the advantages of Flask Framework?\n",
    "\n",
    "Ans--Flask is a lightweight and popular Python web framework used to build web applications. Flask provides developers with a simple and flexible way to build web applications by providing only the necessary tools and features, making it an excellent choice for small to medium-sized projects.\n",
    "\n",
    "Advantages of Flask Framework:\n",
    "\n",
    "1.Lightweight: Flask is a lightweight framework that doesn't require any particular tools or libraries, making it a popular choice for developers who want to keep their applications lean and fast.\n",
    "\n",
    "2.Flexibility: Flask provides developers with a lot of flexibility when it comes to building web applications. It allows developers to add features and libraries as needed, making it easy to customize the application according to their specific requirements.\n",
    "\n",
    "3.Easy to Learn: Flask is relatively easy to learn and use for beginners because of its simple and intuitive API. It is also a great choice for developers who are familiar with Python, as it uses Python syntax and code structure.\n",
    "\n",
    "4.Extensive Documentation: Flask has extensive documentation that covers all the features and functions in detail, making it easy for developers to learn and use the framework.\n",
    "\n",
    "5.Large Community: Flask has a large and active community of developers who contribute to the development and maintenance of the framework. This community provides support, documentation, and resources to developers who are using Flask.\n",
    "\n",
    "6.Integrated Testing: Flask provides built-in testing support that allows developers to test their applications quickly and easily. This is essential for ensuring that the application is functioning correctly and that it meets the necessary requirements.\n",
    "\n",
    "Overall, Flask is an excellent choice for building small to medium-sized web applications due to its lightweight nature, flexibility, ease of use, extensive documentation, large community, and built-in testing support.\n",
    "'''\n",
    "\n",
    "\n"
   ]
  },
  {
   "cell_type": "code",
   "execution_count": null,
   "id": "cdd6c2b9-71b8-4467-a4be-870f3ac91ab5",
   "metadata": {},
   "outputs": [],
   "source": [
    "'''Q2. Create a simple Flask application to display ‘Hello World!!’. Attach the screenshot of the output in\n",
    "Jupyter Notebook.'''\n",
    "\n",
    "from flask import Flask\n",
    "app=Flask(__name__)\n",
    "\n",
    "@app.route('/')\n",
    "def hello_world():\n",
    "    return \"<h1>Hello World</h1>\"\n",
    "\n",
    "if __name__=='__main__':\n",
    "    app.run(host='0.0.0.0')\n",
    "\n"
   ]
  },
  {
   "cell_type": "markdown",
   "id": "e161cdd7-39b5-4082-ad87-dac34ff0a379",
   "metadata": {},
   "source": [
    "Screenshot of Q2--\n",
    "\n",
    "https://black-postman-rfozs.pwskills.app/lab/tree/work/img.pdf"
   ]
  },
  {
   "cell_type": "raw",
   "id": "c3fe17e7-c338-4a1e-acc9-f82b8f7aee5d",
   "metadata": {},
   "source": [
    "''' \n",
    "Q3. What is App routing in Flask? Why do we use app routes?\n",
    "\n",
    "\n",
    "In Flask, App routing refers to the mechanism of defining URL routes that map to specific functions in your Flask application. These routes determine the behavior of the Flask application when a user navigates to a particular URL.\n",
    "\n",
    "In other words, app routing allows you to define how different parts of your Flask application will respond to incoming requests based on the URL that is being accessed.\n",
    "\n",
    "We use app routes in Flask for several reasons, including:\n",
    "\n",
    "Handling different types of HTTP requests: Using app routes, you can define different functions to handle GET, POST, PUT, DELETE, and other HTTP requests.\n",
    "\n",
    "Implementing different functionality based on the URL: You can define different app routes for different URLs, allowing you to implement different functionality based on the URL that is being accessed.\n",
    "\n",
    "Separating concerns: By defining app routes, you can separate the different parts of your Flask application into different functions, making your code more organized and easier to maintain.\n",
    "\n",
    "Building a RESTful API: App routing is an essential part of building a RESTful API in Flask, as it allows you to define the different endpoints of your API and the functionality that is associated with each endpoint.\n",
    "\n",
    "In summary, app routing is a critical feature of Flask that allows you to define how your application will respond to different URLs and HTTP requests. It helps you separate concerns, build RESTful APIs, and make your code more organized and maintainable.\n",
    "\n",
    "\n",
    "\n",
    "'''"
   ]
  },
  {
   "cell_type": "code",
   "execution_count": null,
   "id": "efe33631-2ec5-479b-ac9c-fc76db421341",
   "metadata": {},
   "outputs": [],
   "source": [
    "''' Q4.  Create a “/welcome” route to display the welcome message “Welcome to ABC Corporation” and a “/”\n",
    "route to show the following details:\n",
    "\n",
    "    Company Name: ABC Corporation\n",
    "\n",
    "    Location: India\n",
    "\n",
    "    Contact Detail: 999-999-9999 '''\n",
    "\n",
    "from flask import Flask\n",
    "from flask import request\n",
    "app = Flask(__name__)\n",
    "\n",
    "@app.route('/welcome')\n",
    "def welcome():\n",
    "    data=request.args.get('a')\n",
    "    return f'Welcome to ABC Corporation {data}'\n",
    "\n",
    "@app.route('/')\n",
    "def company_details():\n",
    "    return 'Company Name: ABC Corporation\\nLocation: India\\nContact Detail: 999-999-9999'\n",
    "\n",
    "if __name__ == '__main__':\n",
    "    app.run(debug=True)\n",
    "\n"
   ]
  },
  {
   "cell_type": "markdown",
   "id": "c8c65566-4c0a-4ed8-b6d2-7e4aacd1aa3e",
   "metadata": {},
   "source": [
    "Screenshot of Q4--\n",
    "https://black-postman-rfozs.pwskills.app/lab/tree/work/welcome.pdf\n",
    "https://black-postman-rfozs.pwskills.app/lab/tree/work/details.pdf"
   ]
  },
  {
   "cell_type": "code",
   "execution_count": null,
   "id": "5a013f62-4876-480b-89e1-9c15a3eda133",
   "metadata": {},
   "outputs": [],
   "source": [
    "''' Q5. What function is used in Flask for URL Building? Write a Python code to demonstrate the working of the\n",
    "url_for() function.\n",
    "\n",
    "Ans-In Flask, the url_for() function is used for URL building. It generates a URL to a specific endpoint function based on the endpoint name and any arguments that are passed to it. This function is useful when creating links to pages within a Flask application, as it helps avoid hardcoding URLs and makes it easier to change the structure of the application later on.\n",
    "\n",
    "Here's an example code that demonstrates how to use the url_for() function in Flask:\n",
    "'''\n",
    "from flask import Flask, url_for\n",
    "\n",
    "app = Flask(__name__)\n",
    "\n",
    "@app.route('/')\n",
    "def index():\n",
    "    return 'Hello, World!'\n",
    "\n",
    "@app.route('/user/<username>')\n",
    "def profile(username):\n",
    "    return f'Hello, {username}!'\n",
    "\n",
    "with app.test_request_context():\n",
    "    # Generate a URL to the index function\n",
    "    print(url_for('index')) # Output: /\n",
    "\n",
    "    # Generate a URL to the profile function with the username parameter set to 'John'\n",
    "    print(url_for('profile', username='John')) # Output: /user/John\n"
   ]
  }
 ],
 "metadata": {
  "kernelspec": {
   "display_name": "Python 3 (ipykernel)",
   "language": "python",
   "name": "python3"
  },
  "language_info": {
   "codemirror_mode": {
    "name": "ipython",
    "version": 3
   },
   "file_extension": ".py",
   "mimetype": "text/x-python",
   "name": "python",
   "nbconvert_exporter": "python",
   "pygments_lexer": "ipython3",
   "version": "3.10.8"
  },
  "toc-autonumbering": true
 },
 "nbformat": 4,
 "nbformat_minor": 5
}
